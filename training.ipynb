{
 "cells": [
  {
   "cell_type": "markdown",
   "metadata": {},
   "source": [
    "# Coronagraph inpainting model"
   ]
  },
  {
   "cell_type": "markdown",
   "metadata": {},
   "source": [
    "## Data downloading and preprocessing"
   ]
  },
  {
   "cell_type": "code",
   "execution_count": 1,
   "metadata": {},
   "outputs": [
    {
     "name": "stdout",
     "output_type": "stream",
     "text": [
      "/usr/lib/python3/dist-packages/paramiko/transport.py:237: CryptographyDeprecationWarning: Blowfish has been deprecated\n",
      "  \"class\": algorithms.Blowfish,\n",
      "Traceback (most recent call last):\n",
      "  File \"/home/jenci/.local/lib/python3.10/site-packages/aiohttp/connector.py\", line 992, in _wrap_create_connection\n",
      "    return await self._loop.create_connection(*args, **kwargs)\n",
      "  File \"/usr/lib/python3.10/asyncio/base_events.py\", line 1076, in create_connection\n",
      "    raise exceptions[0]\n",
      "  File \"/usr/lib/python3.10/asyncio/base_events.py\", line 1060, in create_connection\n",
      "    sock = await self._connect_sock(\n",
      "  File \"/usr/lib/python3.10/asyncio/base_events.py\", line 969, in _connect_sock\n",
      "    await self.sock_connect(sock, address)\n",
      "  File \"/usr/lib/python3.10/asyncio/selector_events.py\", line 501, in sock_connect\n",
      "    return await fut\n",
      "  File \"/usr/lib/python3.10/asyncio/selector_events.py\", line 541, in _sock_connect_cb\n",
      "    raise OSError(err, f'Connect call failed {address}')\n",
      "ConnectionRefusedError: [Errno 111] Connect call failed ('128.60.62.8', 443)\n",
      "\n",
      "The above exception was the direct cause of the following exception:\n",
      "\n",
      "Traceback (most recent call last):\n",
      "  File \"/home/jenci/Desktop/DL-based-Coronagraph-Inpainting/data.py\", line 95, in <module>\n",
      "    asyncio.run(downloader(scrap_date_list))\n",
      "  File \"/usr/lib/python3.10/asyncio/runners.py\", line 44, in run\n",
      "    return loop.run_until_complete(main)\n",
      "  File \"/usr/lib/python3.10/asyncio/base_events.py\", line 649, in run_until_complete\n",
      "    return future.result()\n",
      "  File \"/home/jenci/Desktop/DL-based-Coronagraph-Inpainting/data.py\", line 87, in __call__\n",
      "    await self.__downloader(scrap_date_list)\n",
      "  File \"/home/jenci/.local/lib/python3.10/site-packages/corkit/lasco.py\", line 209, in __call__\n",
      "    await self.downloader_pipeline(scrap_date)\n",
      "  File \"/home/jenci/.local/lib/python3.10/site-packages/corkit/lasco.py\", line 205, in downloader_pipeline\n",
      "    await self.get_download_tasks()\n",
      "  File \"/home/jenci/.local/lib/python3.10/site-packages/corkit/lasco.py\", line 186, in get_download_tasks\n",
      "    await asyncio.gather(*[self.download_day(day) for day in self.new_scrap_date_list[i:i+self.batch_size]])\n",
      "  File \"/home/jenci/.local/lib/python3.10/site-packages/corkit/lasco.py\", line 189, in download_day\n",
      "    names_hours = await asyncio.gather(self.scrap_metadata(self.url_img_txt(day)))\n",
      "  File \"/home/jenci/.local/lib/python3.10/site-packages/corkit/lasco.py\", line 199, in scrap_metadata\n",
      "    async with session.get(url, ssl = False) as response:\n",
      "  File \"/home/jenci/.local/lib/python3.10/site-packages/aiohttp/client.py\", line 1187, in __aenter__\n",
      "    self._resp = await self._coro\n",
      "  File \"/home/jenci/.local/lib/python3.10/site-packages/aiohttp/client.py\", line 574, in _request\n",
      "    conn = await self._connector.connect(\n",
      "  File \"/home/jenci/.local/lib/python3.10/site-packages/aiohttp/connector.py\", line 544, in connect\n",
      "    proto = await self._create_connection(req, traces, timeout)\n",
      "  File \"/home/jenci/.local/lib/python3.10/site-packages/aiohttp/connector.py\", line 911, in _create_connection\n",
      "    _, proto = await self._create_direct_connection(req, traces, timeout)\n",
      "  File \"/home/jenci/.local/lib/python3.10/site-packages/aiohttp/connector.py\", line 1235, in _create_direct_connection\n",
      "    raise last_exc\n",
      "  File \"/home/jenci/.local/lib/python3.10/site-packages/aiohttp/connector.py\", line 1204, in _create_direct_connection\n",
      "    transp, proto = await self._wrap_create_connection(\n",
      "  File \"/home/jenci/.local/lib/python3.10/site-packages/aiohttp/connector.py\", line 1000, in _wrap_create_connection\n",
      "    raise client_error(req.connection_key, exc) from exc\n",
      "aiohttp.client_exceptions.ClientConnectorError: Cannot connect to host lasco-www.nrl.navy.mil:443 ssl:False [Connect call failed ('128.60.62.8', 443)]\n"
     ]
    }
   ],
   "source": [
    "!python3 data.py"
   ]
  },
  {
   "cell_type": "code",
   "execution_count": null,
   "metadata": {},
   "outputs": [],
   "source": [
    "from utils import get_default_device\n",
    "device = get_default_device()\n",
    "print(device)"
   ]
  },
  {
   "cell_type": "markdown",
   "metadata": {},
   "source": [
    "## Creating dataset"
   ]
  },
  {
   "cell_type": "code",
   "execution_count": null,
   "metadata": {},
   "outputs": [],
   "source": [
    "batch_size = 1"
   ]
  },
  {
   "cell_type": "code",
   "execution_count": null,
   "metadata": {},
   "outputs": [],
   "source": [
    "from torch.utils.data import random_split, DataLoader\n",
    "from utils import DeviceDataLoader\n",
    "from data import CoronagraphDataset\n",
    "\n",
    "dataset = CoronagraphDataset('c2')\n",
    "# 0.8 - 0.2\n",
    "train_len = round(0.8*len(dataset))\n",
    "val_len = len(dataset) - train_len\n",
    "\n",
    "#random split\n",
    "train_ds, val_ds = random_split(dataset, [train_len, val_len])\n",
    "\n",
    "train_dl = DeviceDataLoader(DataLoader(train_ds, batch_size, True, num_workers = 4, pin_memory=True), device)\n",
    "val_dl = DeviceDataLoader(DataLoader(val_ds, batch_size*2, True, num_workers = 4, pin_memory=True), device)"
   ]
  },
  {
   "cell_type": "code",
   "execution_count": null,
   "metadata": {},
   "outputs": [],
   "source": [
    "from model import CoronagraphReconstructor\n",
    "from utils import to_device\n",
    "\n",
    "model = to_device(CoronagraphReconstructor('c2', in_channels = 1, deep = 2, layers = 2), device)"
   ]
  },
  {
   "cell_type": "code",
   "execution_count": null,
   "metadata": {},
   "outputs": [],
   "source": [
    "import torch\n",
    "sample_tensor = (torch.randn(1,1,1024,1024), torch.ones(1,1,1024,1024))\n",
    "sample_tensor = to_device(sample_tensor, device)"
   ]
  },
  {
   "cell_type": "code",
   "execution_count": null,
   "metadata": {},
   "outputs": [],
   "source": [
    "torch.cuda.empty_cache()"
   ]
  },
  {
   "cell_type": "code",
   "execution_count": null,
   "metadata": {},
   "outputs": [],
   "source": [
    "from torch.optim.lr_scheduler import OneCycleLR\n",
    "from torch.optim import Adam\n",
    "\n",
    "model.fit(\n",
    "    train_dl,\n",
    "    val_dl,\n",
    "    epochs = 25,\n",
    "    lr = 1e-5,\n",
    "    batch_size = batch_size,\n",
    "    weight_decay = 0,\n",
    "    grad_clip = 1e-4,\n",
    "    opt_func = Adam,\n",
    "    lr_sched = OneCycleLR,\n",
    "    saving_div = 5,\n",
    "    graph = True,\n",
    "    sample_input = sample_tensor\n",
    ")"
   ]
  }
 ],
 "metadata": {
  "kernelspec": {
   "display_name": "Python 3",
   "language": "python",
   "name": "python3"
  },
  "language_info": {
   "codemirror_mode": {
    "name": "ipython",
    "version": 3
   },
   "file_extension": ".py",
   "mimetype": "text/x-python",
   "name": "python",
   "nbconvert_exporter": "python",
   "pygments_lexer": "ipython3",
   "version": "3.10.12"
  }
 },
 "nbformat": 4,
 "nbformat_minor": 2
}
