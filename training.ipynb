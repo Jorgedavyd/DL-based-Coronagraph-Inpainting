{
 "cells": [
  {
   "cell_type": "markdown",
   "metadata": {},
   "source": [
    "# Coronagraph inpainting model"
   ]
  },
  {
   "cell_type": "markdown",
   "metadata": {},
   "source": [
    "## Data downloading and preprocessing"
   ]
  },
  {
   "cell_type": "code",
   "execution_count": 1,
   "metadata": {},
   "outputs": [
    {
     "name": "stdout",
     "output_type": "stream",
     "text": [
      "/usr/lib/python3/dist-packages/paramiko/transport.py:237: CryptographyDeprecationWarning: Blowfish has been deprecated\n",
      "  \"class\": algorithms.Blowfish,\n",
      "Importing data\n",
      "LASCO-C2:22157691.fts:2003/10/28T20:10:35.655...\n",
      "Importing data\n",
      "LASCO-C2:22157091.fts:2003/10/20T01:55:05.979...\n",
      "Importing data\n",
      "LASCO-C2:22157383.fts:2003/10/24T06:54:30.881...\n",
      "Importing data\n",
      "LASCO-C2:22157143.fts:2003/10/20T20:54:05.924...\n",
      "Importing data\n",
      "LASCO-C2:22157509.fts:2003/10/26T02:30:30.992...\n",
      "Importing data\n",
      "LASCO-C2:22157573.fts:2003/10/27T00:06:05.441...\n",
      "Importing data\n",
      "LASCO-C2:22157708.fts:2003/10/29T05:24:10.719...\n",
      "Importing data\n",
      "LASCO-C2:22157415.fts:2003/10/24T18:06:05.473...\n",
      "Importing data\n",
      "LASCO-C2:22157428.fts:2003/10/24T21:54:05.535...\n",
      "Importing data\n",
      "LASCO-C2:22157332.fts:2003/10/23T13:33:53.413...\n",
      "Importing data\n",
      "LASCO-C2:22157423.fts:2003/10/24T20:56:39.970...\n",
      "Importing data\n",
      "LASCO-C2:22157809.fts:2003/10/30T22:09:44.810...\n",
      "Importing data\n",
      "LASCO-C2:22157707.fts:2003/10/29T04:15:34.061...\n",
      "Importing data\n",
      "LASCO-C2:22157777.fts:2003/10/30T10:23:04.539...\n",
      "Importing data\n",
      "LASCO-C2:22157742.fts:2003/10/29T19:45:07.897...\n",
      "Importing data\n",
      "LASCO-C2:22157248.fts:2003/10/22T08:54:05.709...\n",
      "Importing data\n",
      "LASCO-C2:22157299.fts:2003/10/23T02:06:05.781...\n",
      "Importing data\n",
      "LASCO-C2:22157221.fts:2003/10/21T22:30:05.689...\n",
      "Importing data\n",
      "LASCO-C2:22157442.fts:2003/10/25T02:58:47.750...\n",
      "Importing data\n",
      "LASCO-C2:22157148.fts:2003/10/20T21:30:05.603...\n",
      "Importing data\n",
      "LASCO-C2:22157476.fts:2003/10/25T15:30:05.493...\n",
      "Importing data\n",
      "LASCO-C2:22157224.fts:2003/10/22T00:06:05.431...\n",
      "Importing data\n",
      "LASCO-C2:22157407.fts:2003/10/24T15:30:05.468...\n",
      "Importing data\n",
      "LASCO-C2:22157334.fts:2003/10/23T14:31:44.478...\n",
      "Importing data\n",
      "LASCO-C2:22157730.fts:2003/10/29T15:54:50.437...\n",
      "Importing data\n",
      "LASCO-C2:22157365.fts:2003/10/24T00:30:05.414...\n",
      "Importing data\n",
      "LASCO-C2:22157336.fts:2003/10/23T15:06:05.457...\n",
      "Importing data\n",
      "LASCO-C2:22157278.fts:2003/10/22T19:31:38.621...\n",
      "Importing data\n",
      "LASCO-C2:22157606.fts:2003/10/27T11:54:05.973...\n",
      "Importing data\n",
      "LASCO-C2:22157518.fts:2003/10/26T05:30:05.583...\n",
      "Importing data\n",
      "LASCO-C2:22157109.fts:2003/10/20T08:06:18.354...\n",
      "Importing data\n",
      "LASCO-C2:22157433.fts:2003/10/24T23:54:05.461...\n",
      "Importing data\n",
      "LASCO-C2:22157501.fts:2003/10/25T23:30:06.901...\n",
      "Importing data\n",
      "LASCO-C2:22157393.fts:2003/10/24T10:30:21.250...\n",
      "Importing data\n",
      "LASCO-C2:22157250.fts:2003/10/22T09:30:05.387...\n",
      "Importing data\n",
      "LASCO-C2:22157150.fts:2003/10/20T22:06:05.581...\n",
      "Importing data\n",
      "LASCO-C2:22157395.fts:2003/10/24T11:06:05.528...\n",
      "Importing data\n",
      "LASCO-C2:22157432.fts:2003/10/24T23:30:05.477...\n",
      "Importing data\n",
      "LASCO-C2:22157512.fts:2003/10/26T03:00:33.874...\n",
      "Importing data\n",
      "LASCO-C2:22157738.fts:2003/10/29T18:22:03.047...\n",
      "Importing data\n",
      "LASCO-C2:22157259.fts:2003/10/22T12:30:05.678...\n",
      "Importing data\n",
      "LASCO-C2:22157626.fts:2003/10/27T19:54:05.440...\n",
      "Importing data\n",
      "LASCO-C2:22157188.fts:2003/10/21T11:54:05.677...\n",
      "Importing data\n",
      "LASCO-C2:22157745.fts:2003/10/29T20:56:38.029...\n",
      "Importing data\n",
      "LASCO-C2:22157329.fts:2003/10/23T12:30:05.702...\n",
      "Importing data\n",
      "LASCO-C2:22157276.fts:2003/10/22T18:30:05.759...\n",
      "Importing data\n",
      "LASCO-C2:22157733.fts:2003/10/29T16:51:04.403...\n",
      "Importing data\n",
      "LASCO-C2:22157542.fts:2003/10/26T14:06:05.669...\n",
      "Importing data\n",
      "LASCO-C2:22157685.fts:2003/10/28T16:51:02.377...\n",
      "Importing data\n",
      "LASCO-C2:22157451.fts:2003/10/25T06:30:06.521...\n",
      "Importing data\n",
      "LASCO-C2:22157114.fts:2003/10/20T09:54:32.388...\n",
      "Importing data\n",
      "LASCO-C2:22157292.fts:2003/10/22T23:30:05.476...\n",
      "Importing data\n",
      "LASCO-C2:22157715.fts:2003/10/29T09:58:37.653...\n",
      "Importing data\n",
      "LASCO-C2:22157095.fts:2003/10/20T03:06:18.137...\n",
      "Importing data\n",
      "LASCO-C2:22157168.fts:2003/10/21T04:54:05.532...\n",
      "Importing data\n",
      "LASCO-C2:22157734.fts:2003/10/29T17:14:04.189...\n",
      "Importing data\n",
      "LASCO-C2:22157481.fts:2003/10/25T17:06:06.435...\n",
      "Importing data\n",
      "LASCO-C2:22157629.fts:2003/10/27T20:54:07.305...\n",
      "Importing data\n",
      "LASCO-C2:22157460.fts:2003/10/25T09:54:05.498...\n",
      "Importing data\n",
      "LASCO-C2:22157765.fts:2003/10/30T04:37:27.349...\n",
      "Importing data\n",
      "LASCO-C2:22157690.fts:2003/10/28T19:27:44.881...\n",
      "Importing data\n",
      "LASCO-C2:22157677.fts:2003/10/28T12:54:05.521...\n",
      "Importing data\n",
      "LASCO-C2:22157104.fts:2003/10/20T06:06:21.527...\n",
      "Importing data\n",
      "LASCO-C2:22157286.fts:2003/10/22T21:08:04.963...\n",
      "Importing data\n",
      "LASCO-C2:22157330.fts:2003/10/23T12:54:05.487...\n",
      "Importing data\n",
      "LASCO-C2:22157634.fts:2003/10/27T21:30:05.582...\n",
      "Importing data\n",
      "LASCO-C2:22157211.fts:2003/10/21T20:06:05.577...\n",
      "Importing data\n",
      "LASCO-C2:22157514.fts:2003/10/26T03:30:12.855...\n",
      "Importing data\n",
      "LASCO-C2:22157394.fts:2003/10/24T10:54:05.436...\n",
      "Importing data\n",
      "LASCO-C2:22157565.fts:2003/10/26T21:08:49.712...\n",
      "Importing data\n",
      "LASCO-C2:22157632.fts:2003/10/27T21:04:17.398...\n",
      "Importing data\n",
      "LASCO-C2:22157335.fts:2003/10/23T14:54:05.464...\n",
      "Importing data\n",
      "LASCO-C2:22157795.fts:2003/10/30T17:34:08.877...\n",
      "Importing data\n",
      "LASCO-C2:22157350.fts:2003/10/23T20:06:05.475...\n",
      "Importing data\n",
      "LASCO-C2:22157180.fts:2003/10/21T09:06:07.080...\n",
      "Importing data\n",
      "LASCO-C2:22157533.fts:2003/10/26T10:56:19.185...\n",
      "Importing data\n",
      "LASCO-C2:22157256.fts:2003/10/22T11:30:05.415...\n",
      "Traceback (most recent call last):\n",
      "  File \"/home/jenci/Desktop/DL-based-Coronagraph-Inpainting/data.py\", line 55, in <module>\n",
      "    downloader.level_1()\n",
      "  File \"/home/jenci/Desktop/DL-based-Coronagraph-Inpainting/data.py\", line 47, in level_1\n",
      "    level_1(\n",
      "  File \"/home/jenci/.local/lib/python3.10/site-packages/corkit/lasco.py\", line 47, in level_1\n",
      "    b, header = c2_calibrate(img0, header, **kwargs)\n",
      "  File \"/home/jenci/.local/lib/python3.10/site-packages/corkit/lasco.py\", line 497, in c2_calibrate\n",
      "    img = c2_calibration_forward(img0, header, calfac, vig_full)\n",
      "  File \"/home/jenci/.local/lib/python3.10/site-packages/corkit/lasco.py\", line 510, in c2_calibration_forward\n",
      "    img = (img0 - header['offset']) * calfac / header['exptime']\n",
      "TypeError: unsupported operand type(s) for -: 'NoneType' and 'float'\n"
     ]
    }
   ],
   "source": [
    "!python3 data.py"
   ]
  },
  {
   "cell_type": "code",
   "execution_count": 3,
   "metadata": {},
   "outputs": [
    {
     "ename": "SyntaxError",
     "evalue": "invalid syntax (utils.py, line 45)",
     "output_type": "error",
     "traceback": [
      "Traceback \u001b[0;36m(most recent call last)\u001b[0m:\n",
      "\u001b[0m  File \u001b[1;32m~/.local/lib/python3.10/site-packages/IPython/core/interactiveshell.py:3550\u001b[0m in \u001b[1;35mrun_code\u001b[0m\n    exec(code_obj, self.user_global_ns, self.user_ns)\u001b[0m\n",
      "\u001b[0;36m  Cell \u001b[0;32mIn[3], line 1\u001b[0;36m\n\u001b[0;31m    from utils import get_default_device\u001b[0;36m\n",
      "\u001b[0;36m  File \u001b[0;32m~/Desktop/DL-based-Coronagraph-Inpainting/utils.py:45\u001b[0;36m\u001b[0m\n\u001b[0;31m    self.feature_extractor =\u001b[0m\n\u001b[0m                             ^\u001b[0m\n\u001b[0;31mSyntaxError\u001b[0m\u001b[0;31m:\u001b[0m invalid syntax\n"
     ]
    }
   ],
   "source": [
    "from utils import get_default_device\n",
    "device = get_default_device()\n",
    "print(device)"
   ]
  },
  {
   "cell_type": "markdown",
   "metadata": {},
   "source": [
    "## Creating dataset"
   ]
  },
  {
   "cell_type": "code",
   "execution_count": 2,
   "metadata": {},
   "outputs": [],
   "source": [
    "batch_size = 32"
   ]
  },
  {
   "cell_type": "code",
   "execution_count": null,
   "metadata": {},
   "outputs": [],
   "source": [
    "from torch.utils.data import random_split, DataLoader\n",
    "from utils import DeviceDataLoader\n",
    "from data import CoronagraphDataset\n",
    "\n",
    "dataset = CoronagraphDataset('c2')\n",
    "# 0.8 - 0.2\n",
    "train_len = round(0.8*len(dataset))\n",
    "val_len = len(dataset) - train_len\n",
    "\n",
    "#random split\n",
    "train_ds, val_ds = random_split(dataset, [train_len, val_len])\n",
    "\n",
    "train_dl = DeviceDataLoader(DataLoader(train_ds, batch_size, True, num_workers = 4, pin_memory=True), device)\n",
    "val_dl = DeviceDataLoader(DataLoader(val_ds, batch_size*2, True, num_workers = 4, pin_memory=True), device)"
   ]
  },
  {
   "cell_type": "code",
   "execution_count": null,
   "metadata": {},
   "outputs": [],
   "source": [
    "from model import CoronagraphReconstructor\n",
    "from utils import to_device, Loss\n",
    "\n",
    "model = to_device(CoronagraphReconstructor(), device)\n",
    "criterion = Loss()"
   ]
  },
  {
   "cell_type": "code",
   "execution_count": null,
   "metadata": {},
   "outputs": [],
   "source": [
    "\"\"\"Hyperparameters\"\"\"\n"
   ]
  },
  {
   "cell_type": "code",
   "execution_count": null,
   "metadata": {},
   "outputs": [],
   "source": [
    "model.fit()"
   ]
  }
 ],
 "metadata": {
  "kernelspec": {
   "display_name": "Python 3",
   "language": "python",
   "name": "python3"
  },
  "language_info": {
   "codemirror_mode": {
    "name": "ipython",
    "version": 3
   },
   "file_extension": ".py",
   "mimetype": "text/x-python",
   "name": "python",
   "nbconvert_exporter": "python",
   "pygments_lexer": "ipython3",
   "version": "3.10.12"
  }
 },
 "nbformat": 4,
 "nbformat_minor": 2
}
